{
  "nbformat": 4,
  "nbformat_minor": 0,
  "metadata": {
    "colab": {
      "name": "NLP.ipynb",
      "provenance": [],
      "collapsed_sections": [],
      "authorship_tag": "ABX9TyNNkH+maGYJ8hZ6W1PWwAYA",
      "include_colab_link": true
    },
    "kernelspec": {
      "name": "python3",
      "display_name": "Python 3"
    },
    "language_info": {
      "name": "python"
    },
    "accelerator": "GPU"
  },
  "cells": [
    {
      "cell_type": "markdown",
      "metadata": {
        "id": "view-in-github",
        "colab_type": "text"
      },
      "source": [
        "<a href=\"https://colab.research.google.com/github/RohanLone/word_embedding/blob/main/NLP.ipynb\" target=\"_parent\"><img src=\"https://colab.research.google.com/assets/colab-badge.svg\" alt=\"Open In Colab\"/></a>"
      ]
    },
    {
      "cell_type": "code",
      "metadata": {
        "colab": {
          "base_uri": "https://localhost:8080/"
        },
        "id": "N17Qn2_NnP4g",
        "outputId": "1dc06026-40c2-4012-a852-df70da159632"
      },
      "source": [
        "import io\n",
        "import datetime\n",
        "import tensorflow as tf\n",
        "import matplotlib.pyplot as plt\n",
        "from tensorflow import keras\n",
        "from tensorflow.keras import layers\n",
        "import tensorflow_datasets as tfds\n",
        "\n",
        "def get_data():\n",
        "  (train_data,test_data),info = tfds.load('imdb_reviews/subwords8k',\n",
        "                                        split = (tfds.Split.TRAIN,tfds.Split.TEST),\n",
        "                                        with_info=True,as_supervised=True)\n",
        "  encoder = info.features['text'].encoder\n",
        "  padded_shapes = ([None],())\n",
        "  train_batches = train_data.shuffle(1000).padded_batch(10,padded_shapes = padded_shapes)\n",
        "  test_batches = test_data.padded_batch(10,padded_shapes = padded_shapes)\n",
        "\n",
        "  return train_batches,test_batches,encoder\n",
        "\n",
        "def  get_model(encoder):\n",
        "  embedding_dim=16\n",
        "\n",
        "  model = tf.keras.Sequential([\n",
        "    layers.Embedding(encoder.vocab_size, embedding_dim, name=\"embedding\"),\n",
        "    layers.GlobalAveragePooling1D(),\n",
        "    layers.Dense(16, activation='relu'),\n",
        "    layers.Dropout(0.5),\n",
        "    layers.Dense(1,activation='sigmoid')\n",
        "  ])\n",
        "  model.compile(optimizer = 'adam',loss = 'binary_crossentropy',metrics=['accuracy']) \n",
        "  \n",
        "  return model\n",
        "\n",
        "\n",
        "def retrieve_embeddings(model,encoder):\n",
        "\n",
        "  out_vectors = io.open('vecs.csv','w',encoding = 'utf=8')\n",
        "  out_metadata = io.open('meta.csv','w',encoding = 'utf=8')\n",
        "  weights = model.layers[0].get_weights()[0]\n",
        "\n",
        "  for num,word in enumerate(encoder.subwords):\n",
        "    vec = weights[num+1]\n",
        "    out_metadata.write(word+'\\n')\n",
        "    out_vectors.write('\\t'.join([str(x) for x in vec])+ '\\n')\n",
        "\n",
        "  out_vectors.close()\n",
        "  out_metadata.close() \n",
        "\n",
        "train_batches,test_batches,encoder = get_data()\n",
        "model = get_model(encoder)\n",
        "history = model.fit(train_batches,epochs = 10,validation_data = test_batches,\n",
        "                    validation_steps = 20)\n",
        "\n",
        "retrieve_embeddings(model,encoder)"
      ],
      "execution_count": null,
      "outputs": [
        {
          "output_type": "stream",
          "text": [
            "WARNING:absl:TFDS datasets with text encoding are deprecated and will be removed in a future version. Instead, you should use the plain text version and tokenize the text using `tensorflow_text` (See: https://www.tensorflow.org/tutorials/tensorflow_text/intro#tfdata_example)\n"
          ],
          "name": "stderr"
        },
        {
          "output_type": "stream",
          "text": [
            "Epoch 1/10\n",
            "2500/2500 [==============================] - 15s 5ms/step - loss: 0.6679 - accuracy: 0.5680 - val_loss: 0.4669 - val_accuracy: 0.8300\n",
            "Epoch 2/10\n",
            "2500/2500 [==============================] - 12s 5ms/step - loss: 0.4248 - accuracy: 0.8265 - val_loss: 0.4286 - val_accuracy: 0.8200\n",
            "Epoch 3/10\n",
            "2500/2500 [==============================] - 12s 5ms/step - loss: 0.3485 - accuracy: 0.8658 - val_loss: 0.4047 - val_accuracy: 0.8350\n",
            "Epoch 4/10\n",
            "2500/2500 [==============================] - 11s 5ms/step - loss: 0.3125 - accuracy: 0.8841 - val_loss: 0.3934 - val_accuracy: 0.8450\n",
            "Epoch 5/10\n",
            "2500/2500 [==============================] - 12s 5ms/step - loss: 0.2800 - accuracy: 0.8946 - val_loss: 0.4290 - val_accuracy: 0.8450\n",
            "Epoch 6/10\n",
            "2500/2500 [==============================] - 11s 5ms/step - loss: 0.2613 - accuracy: 0.9072 - val_loss: 0.4243 - val_accuracy: 0.8500\n",
            "Epoch 7/10\n",
            "2500/2500 [==============================] - 12s 5ms/step - loss: 0.2534 - accuracy: 0.9081 - val_loss: 0.4546 - val_accuracy: 0.8400\n",
            "Epoch 8/10\n",
            "2500/2500 [==============================] - 12s 5ms/step - loss: 0.2443 - accuracy: 0.9133 - val_loss: 0.4870 - val_accuracy: 0.8300\n",
            "Epoch 9/10\n",
            "2500/2500 [==============================] - 12s 5ms/step - loss: 0.2201 - accuracy: 0.9206 - val_loss: 0.5456 - val_accuracy: 0.8600\n",
            "Epoch 10/10\n",
            "2500/2500 [==============================] - 12s 5ms/step - loss: 0.2040 - accuracy: 0.9251 - val_loss: 0.6462 - val_accuracy: 0.8300\n"
          ],
          "name": "stdout"
        }
      ]
    },
    {
      "cell_type": "code",
      "metadata": {
        "id": "G_aw0aUre-Rt"
      },
      "source": [
        "try:\n",
        "  from google.colab import files\n",
        "  files.download('vectors.tsv')\n",
        "  files.download('metadata.tsv')\n",
        "except Exception:\n",
        "  pass"
      ],
      "execution_count": null,
      "outputs": []
    }
  ]
}
